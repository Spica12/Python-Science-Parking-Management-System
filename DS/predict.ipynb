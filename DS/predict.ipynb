{
 "cells": [
  {
   "cell_type": "code",
   "execution_count": 20,
   "metadata": {},
   "outputs": [
    {
     "name": "stderr",
     "output_type": "stream",
     "text": [
      "WARNING:absl:Compiled the loaded model, but the compiled metrics have yet to be built. `model.compile_metrics` will be empty until you train or evaluate the model.\n",
      "WARNING:absl:Error in loading the saved optimizer state. As a result, your model is starting with a freshly initialized optimizer.\n"
     ]
    }
   ],
   "source": [
    "import os\n",
    "import matplotlib.pyplot as plt\n",
    "import numpy as np\n",
    "import cv2\n",
    "import tensorflow as tf\n",
    "from sklearn.metrics import f1_score \n",
    "from keras import optimizers\n",
    "from keras.models import Sequential\n",
    "from tensorflow.keras.preprocessing.image import ImageDataGenerator\n",
    "from tensorflow.keras.models import load_model\n",
    "from keras.layers import Dense, Flatten, MaxPooling2D, Dropout, Conv2D\n",
    "\n",
    "# Налаштування TensorFlow\n",
    "os.environ['TF_ENABLE_ONEDNN_OPTS'] = '0'\n",
    "\n",
    "# Визначення шляхів для завантаження ресурсів\n",
    "models_file_path = './models/'\n",
    "file_model = 'ua-license-plate-recognition-model-37x.h5'\n",
    "file_cascad = 'haarcascade_russian_plate_number.xml'\n",
    "full_path_models = os.path.join(models_file_path, file_model)  \n",
    "full_path_cascad = os.path.join(models_file_path, file_cascad)\n",
    "\n",
    "# Завантаження моделі та каскадного класифікатора\n",
    "model = load_model(full_path_models)\n",
    "plate_cascade = cv2.CascadeClassifier(full_path_cascad)\n"
   ]
  },
  {
   "cell_type": "code",
   "execution_count": 21,
   "metadata": {},
   "outputs": [],
   "source": [
    "def resize_img(img, target_height=720):\n",
    "    height, width = img.shape[:2]\n",
    "    if height <= target_height:\n",
    "        return img\n",
    "    target_width = int(width * (target_height / height))\n",
    "    resized_img = cv2.resize(img, (target_width, target_height))\n",
    "    return resized_img\n"
   ]
  },
  {
   "cell_type": "code",
   "execution_count": 22,
   "metadata": {},
   "outputs": [],
   "source": [
    "def extract_plate(img, plate_cascade, text=''):\n",
    "    plate_img = img.copy()\n",
    "    roi = img.copy()\n",
    "    plate = None\n",
    "    plate_rect = plate_cascade.detectMultiScale(plate_img, scaleFactor=1.05, minNeighbors=8)\n",
    "\n",
    "    width_max = 0\n",
    "    plate_max = None\n",
    "    x_max = 0\n",
    "    y_max = 0\n",
    "\n",
    "    for (x, y, w, h) in plate_rect:\n",
    "        a, b = (int(0.1 * h), int(0.1 * w))\n",
    "        aa, bb = (int(0.1 * h), int(0.1 * w))\n",
    "\n",
    "        if h > 75:\n",
    "            b = 0\n",
    "            bb = 0\n",
    "\n",
    "        plate = roi[y + a: y + h - aa, x + b: x + w - bb, :]\n",
    "\n",
    "        if width_max < w:\n",
    "            plate_max = plate\n",
    "            width_max = w\n",
    "            x_max = x\n",
    "            y_max = y\n",
    "\n",
    "        cv2.rectangle(plate_img, (x + 2, y), (x + w - 3, y + h - 5), (51, 224, 172), 3)\n",
    "\n",
    "    if text != '':\n",
    "        h = plate_max.shape[0]\n",
    "        plate_img = cv2.putText(plate_img, text, (x_max, y_max - h // 3), \n",
    "                                cv2.FONT_HERSHEY_COMPLEX_SMALL, 1.5, (51, 224, 172), 2, cv2.LINE_AA)\n",
    "        \n",
    "    return plate_img, plate_max\n"
   ]
  },
  {
   "cell_type": "code",
   "execution_count": 23,
   "metadata": {},
   "outputs": [],
   "source": [
    "def find_contours(dimensions, img):\n",
    "    i_width_threshold = 6\n",
    "    cntrs, _ = cv2.findContours(img.copy(), cv2.RETR_TREE, cv2.CHAIN_APPROX_SIMPLE)\n",
    "\n",
    "    lower_width, upper_width, lower_height, upper_height = dimensions\n",
    "\n",
    "    cntrs = sorted(cntrs, key=cv2.contourArea, reverse=True)[:16]\n",
    "    \n",
    "    ii = np.dstack([img] * 3)\n",
    "    \n",
    "    x_cntr_list = []\n",
    "    target_contours = []\n",
    "    img_res = []\n",
    "    for cntr in cntrs:\n",
    "        intX, intY, intWidth, intHeight = cv2.boundingRect(cntr)\n",
    "\n",
    "        if (intWidth >= i_width_threshold and intWidth < upper_width and intHeight > lower_height and intHeight < upper_height):\n",
    "            x_cntr_list.append(intX)\n",
    "\n",
    "            char_copy = np.zeros((44, 24))\n",
    "            char = img[intY:intY + intHeight, intX:intX + intWidth]\n",
    "\n",
    "            if (intWidth >= i_width_threshold and intWidth < lower_width):\n",
    "                i_char = cv2.resize(char, (intWidth, 42), interpolation=cv2.INTER_LINEAR_EXACT)\n",
    "\n",
    "                char = np.full((42, 22), 255, dtype=np.uint8)\n",
    "                begin = int((22 - intWidth) / 2)\n",
    "                char[:, begin:begin + intWidth] = i_char[:, :]\n",
    "            else:\n",
    "                char = cv2.resize(char, (22, 42), interpolation=cv2.INTER_LINEAR_EXACT)\n",
    "            \n",
    "            cv2.rectangle(ii, (intX, intY), (intWidth + intX, intY + intHeight), (50, 21, 200), 2)\n",
    "\n",
    "            char = cv2.subtract(255, char)\n",
    "\n",
    "            char_copy[1:43, 1:23] = char\n",
    "            char_copy[0:1, :] = 0\n",
    "            char_copy[:, 0:1] = 0\n",
    "            char_copy[43:44, :] = 0\n",
    "            char_copy[:, 23:24] = 0\n",
    "\n",
    "            img_res.append(char_copy)\n",
    "            if len(img_res) >= 10: break\n",
    "            \n",
    "    indices = sorted(range(len(x_cntr_list)), key=lambda k: x_cntr_list[k])\n",
    "    img_res_copy = [img_res[idx] for idx in indices]\n",
    "    img_res = np.array(img_res_copy)\n",
    "\n",
    "    return img_res\n"
   ]
  },
  {
   "cell_type": "code",
   "execution_count": 24,
   "metadata": {},
   "outputs": [],
   "source": [
    "def segment_to_contours(image):\n",
    "    new_height = 75\n",
    "    img_lp = cv2.resize(image, (333, new_height), interpolation=cv2.INTER_LINEAR_EXACT)\n",
    "    img_gray_lp = cv2.cvtColor(img_lp, cv2.COLOR_BGR2GRAY)\n",
    "    _, img_binary_lp = cv2.threshold(img_gray_lp, 112, 255, cv2.THRESH_BINARY + cv2.THRESH_OTSU)\n",
    "\n",
    "    LP_WIDTH = img_binary_lp.shape[1]\n",
    "    LP_HEIGHT = img_binary_lp.shape[0]\n",
    "\n",
    "    img_binary_lp[0:3, :] = 255\n",
    "    img_binary_lp[:, 0:3] = 255\n",
    "    img_binary_lp[new_height - 3:new_height, :] = 255\n",
    "    img_binary_lp[:, 330:333] = 255\n",
    "\n",
    "    dimensions = [LP_WIDTH / 24,\n",
    "                LP_WIDTH / 8,\n",
    "                LP_HEIGHT / 3,\n",
    "                2 * LP_HEIGHT / 3]\n",
    "\n",
    "    char_list = find_contours(dimensions, img_binary_lp)\n",
    "    return char_list\n"
   ]
  },
  {
   "cell_type": "code",
   "execution_count": 25,
   "metadata": {},
   "outputs": [],
   "source": [
    "def fix_dimension(img): \n",
    "    new_img = np.zeros((28, 28, 3))\n",
    "    for i in range(3):\n",
    "        new_img[:, :, i] = img\n",
    "    return new_img\n"
   ]
  },
  {
   "cell_type": "code",
   "execution_count": 26,
   "metadata": {},
   "outputs": [],
   "source": [
    "def predict_result(ch_contours, model):\n",
    "    dic = {i: c for i, c in enumerate('#0123456789ABCDEFGHIJKLMNOPQRSTUVWXYZ')}\n",
    "    output = []\n",
    "\n",
    "    for ch in ch_contours:\n",
    "        img_ = cv2.resize(ch, (28, 28))\n",
    "        img = fix_dimension(img_)\n",
    "        img = img.reshape(1, 28, 28, 3)\n",
    "        y_ = np.argmax(model.predict(img, verbose=0), axis=-1)[0]\n",
    "        character = dic[y_]\n",
    "        output.append(character)\n",
    "\n",
    "    plate_number = ''.join(output)\n",
    "    return plate_number\n"
   ]
  },
  {
   "cell_type": "code",
   "execution_count": 27,
   "metadata": {},
   "outputs": [],
   "source": [
    "def get_num_avto(img_avto):\n",
    "    img = img_avto.copy()\n",
    "    output_img, num_img = extract_plate(img, plate_cascade)\n",
    "    chars = segment_to_contours(num_img)\n",
    "    predicted_str = predict_result(chars, model)\n",
    "    num_avto_str = predicted_str.replace('#', '')\n",
    "    return num_avto_str, num_img\n"
   ]
  },
  {
   "cell_type": "code",
   "execution_count": 34,
   "metadata": {},
   "outputs": [
    {
     "name": "stdout",
     "output_type": "stream",
     "text": [
      "Номер - AI1182HK\n"
     ]
    }
   ],
   "source": [
    "if __name__ == '__main__':\n",
    "    img_file_path = './img/'\n",
    "    file_img = 'AI1182HK.jpg'\n",
    "    full_path_img = os.path.join(img_file_path, file_img)\n",
    "\n",
    "    original = cv2.imread(full_path_img)\n",
    "    if original is None:\n",
    "        print(\"Помилка завантаження зображення. Перевірте шлях до файлу.\")\n",
    "        exit(1)\n",
    "\n",
    "    result = get_num_avto(original)\n",
    "    print(f'Номер - {result[0]}')\n"
   ]
  }
 ],
 "metadata": {
  "kernelspec": {
   "display_name": "Python 3",
   "language": "python",
   "name": "python3"
  },
  "language_info": {
   "codemirror_mode": {
    "name": "ipython",
    "version": 3
   },
   "file_extension": ".py",
   "mimetype": "text/x-python",
   "name": "python",
   "nbconvert_exporter": "python",
   "pygments_lexer": "ipython3",
   "version": "3.11.2"
  }
 },
 "nbformat": 4,
 "nbformat_minor": 2
}
